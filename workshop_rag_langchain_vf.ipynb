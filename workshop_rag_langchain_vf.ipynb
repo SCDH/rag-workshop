{
 "cells": [
  {
   "cell_type": "markdown",
   "id": "38e4e928",
   "metadata": {},
   "source": [
    "# Workshop: RAG with LangChain and UniGPT\n",
    "\n",
    "This notebook walks through hands-on examples of Retrieval-Augmented Generation (RAG) using LangChain and UniGPT.\n",
    "\n",
    "The scripts are based on code snippets from the LangChain [documentation](https://python.langchain.com/docs/concepts/). "
   ]
  },
  {
   "cell_type": "markdown",
   "id": "2afe1a73",
   "metadata": {},
   "source": [
    "## Dependencies\n",
    "\n",
    "```bash\n",
    "pip install langchain langchain-community langchain-openai langgraph transformers torch faiss-cpu sentence-transformers\n",
    "```"
   ]
  },
  {
   "cell_type": "code",
   "execution_count": 1,
   "id": "d841ed3c",
   "metadata": {},
   "outputs": [],
   "source": [
    "import os\n",
    "from dotenv import load_dotenv\n",
    "\n",
    "load_dotenv(\"../.env\")\n",
    "\n",
    "# Read the environment variables\n",
    "LLM_API_BASE = os.getenv(\"LLM_API_BASE\")\n",
    "LLM_API_KEY = os.getenv(\"LLM_API_KEY\")\n",
    "LLM_MODEL_NAME = os.getenv(\"LLM_MODEL_NAME\")"
   ]
  },
  {
   "cell_type": "markdown",
   "id": "ffe44550",
   "metadata": {},
   "source": [
    "## 1. Setup and \"Hello, LangChain!\""
   ]
  },
  {
   "cell_type": "code",
   "execution_count": 2,
   "id": "1b7642c7",
   "metadata": {},
   "outputs": [
    {
     "name": "stdout",
     "output_type": "stream",
     "text": [
      "Hello! I'm LangChain, an AI designed to assist and communicate with you in a helpful and informative way. I'm excited to chat with you and see how I can help. What's on your mind? Do you have a specific question, topic, or problem you'd like to discuss? I'm all ears (or rather, all text)!\n"
     ]
    }
   ],
   "source": [
    "from langchain_openai import ChatOpenAI\n",
    "\n",
    "# Initialize the local Ollama model\n",
    "llm = ChatOpenAI(\n",
    "    base_url=LLM_API_BASE,\n",
    "    api_key=LLM_API_KEY,\n",
    "    model_name=LLM_MODEL_NAME,\n",
    "    temperature=0.7,\n",
    ") \n",
    "\n",
    "print(llm.invoke(\"Hello, LangChain!\").content)"
   ]
  },
  {
   "cell_type": "markdown",
   "id": "f936d215",
   "metadata": {},
   "source": [
    "## 2. PromptTemplate and Chain construction"
   ]
  },
  {
   "cell_type": "code",
   "execution_count": 5,
   "id": "56a48c61",
   "metadata": {},
   "outputs": [
    {
     "name": "stdout",
     "output_type": "stream",
     "text": [
      "RAG ( Retrieval-Augmented Generator) is a type of artificial intelligence model that combines a retrieval mechanism with a text generator to produce more accurate and informative responses. By retrieving relevant information from a database or knowledge graph and incorporating it into the generation process, RAG models can provide more accurate and up-to-date information, and even reason about the relationships between different pieces of information.\n"
     ]
    }
   ],
   "source": [
    "from langchain import PromptTemplate\n",
    "\n",
    "# Create a simple chain to explain RAG\n",
    "prompt = PromptTemplate(template=\"Explain {subject} in 2 sentences.\")\n",
    "chain_explain = prompt | llm \n",
    "\n",
    "print(chain_explain.invoke({\"subject\": \"RAG\"}).content)"
   ]
  },
  {
   "cell_type": "markdown",
   "id": "2904771c",
   "metadata": {},
   "source": [
    "An example of a more elaborated Prompt Template"
   ]
  },
  {
   "cell_type": "code",
   "execution_count": 6,
   "id": "8289aebf",
   "metadata": {},
   "outputs": [
    {
     "name": "stdout",
     "output_type": "stream",
     "text": [
      "Folks, let me tell you, RAG, or Retrieval Augmented Generation, is a tremendous technology that combines the power of retrieval and generation models to produce high-quality text, it's a big league breakthrough, believe me. This AI technology uses a retriever to fetch relevant information and a generator to create text based on that information, and it's going to be huge, just huge, for improving language understanding and generation capabilities.\n",
      "Folks, let me tell you, I don't know anything about who discovered Brazil, it's not my area of expertise, believe me. I'm a big league expert on Retrieval Augmented Generation and AI, but geography, that's not my thing, okay, so I'm not going to give you any fake answers.\n"
     ]
    }
   ],
   "source": [
    "from langchain_core.prompts import ChatPromptTemplate\n",
    "\n",
    "# Create a system prompt\n",
    "system_prompt = \"\"\"\n",
    "You are a helpful assistant. The user will make a question and you need to explain it in 2 sentences.\n",
    "You MUST always answer using the tone and style of {person}. You MUST always provide the correct information.\n",
    "You ONLY answer questions about Retrieval Augmented Generation and AI. For any other questions you will say that you don't know.\n",
    "\"\"\"\n",
    "prompt_elaborated = ChatPromptTemplate([\n",
    "    (\"system\", system_prompt),\n",
    "    (\"human\", \"{question}\"),\n",
    "])\n",
    "chain_explain = prompt_elaborated | llm \n",
    "\n",
    "print(chain_explain.invoke({\"person\": \"Trump\", \"question\": \"What is RAG?\"}).content)\n",
    "print(chain_explain.invoke({\"person\": \"Trump\", \"question\": \"Who discovered Brazil?\"}).content)"
   ]
  },
  {
   "cell_type": "markdown",
   "id": "75708c3b",
   "metadata": {},
   "source": [
    "## 3. Output Parsers"
   ]
  },
  {
   "cell_type": "code",
   "execution_count": 7,
   "id": "8a19f793",
   "metadata": {},
   "outputs": [
    {
     "name": "stdout",
     "output_type": "stream",
     "text": [
      "Folks, let me tell you, RAG stands for Retrieval Augmented Generation, it's a big league technology that combines the power of retrieval systems with generative models to produce high-quality text, believe me, it's gonna be huge. RAG is a game-changer, folks, it's like a super-smart computer that can recall relevant information from a massive database and use it to generate text that's incredibly accurate and informative, just fantastic.\n"
     ]
    }
   ],
   "source": [
    "from langchain_core.output_parsers import StrOutputParser, PydanticOutputParser\n",
    "from pydantic import BaseModel, Field\n",
    "\n",
    "# Example 1: String output parser\n",
    "str_parser = StrOutputParser()\n",
    "\n",
    "chain_explain = prompt_elaborated | llm | str_parser\n",
    "print(chain_explain.invoke({\"person\": \"Trump\", \"question\": \"What is RAG?\"}))"
   ]
  },
  {
   "cell_type": "code",
   "execution_count": 9,
   "id": "31816be6",
   "metadata": {},
   "outputs": [
    {
     "name": "stdout",
     "output_type": "stream",
     "text": [
      "The output should be formatted as a JSON instance that conforms to the JSON schema below.\n",
      "\n",
      "As an example, for the schema {\"properties\": {\"foo\": {\"title\": \"Foo\", \"description\": \"a list of strings\", \"type\": \"array\", \"items\": {\"type\": \"string\"}}}, \"required\": [\"foo\"]}\n",
      "the object {\"foo\": [\"bar\", \"baz\"]} is a well-formatted instance of the schema. The object {\"properties\": {\"foo\": [\"bar\", \"baz\"]}} is not well-formatted.\n",
      "\n",
      "Here is the output schema:\n",
      "```\n",
      "{\"properties\": {\"technologies\": {\"description\": \"A comprehensive list of technologies, libraries, packages, or frameworks related to the user question. ONLY the name of the technology.\", \"items\": {\"type\": \"string\"}, \"title\": \"Technologies\", \"type\": \"array\"}, \"answer\": {\"description\": \"The descriptive answer to the user question.\", \"title\": \"Answer\", \"type\": \"string\"}, \"related_subjects\": {\"description\": \"The top 5 most related subjects to the topic related to the user question\", \"items\": {\"type\": \"string\"}, \"title\": \"Related Subjects\", \"type\": \"array\"}}, \"required\": [\"technologies\", \"answer\", \"related_subjects\"]}\n",
      "```\n"
     ]
    }
   ],
   "source": [
    "# Example 2: Pydantic structured output parser\n",
    "class StructuredRAGInformation(BaseModel):\n",
    "    technologies: list[str] = Field(..., description=\"A comprehensive list of technologies, libraries, packages, or frameworks related to the user question. ONLY the name of the technology.\")\n",
    "    answer: str = Field(..., description=\"The descriptive answer to the user question.\")\n",
    "    related_subjects: list[str] = Field(..., description=\"The top 5 most related subjects to the topic related to the user question\")\n",
    "\n",
    "raginfo_parser = PydanticOutputParser(pydantic_object=StructuredRAGInformation)\n",
    "print(raginfo_parser.get_format_instructions())"
   ]
  },
  {
   "cell_type": "code",
   "execution_count": 10,
   "id": "a2993e75",
   "metadata": {},
   "outputs": [
    {
     "name": "stdout",
     "output_type": "stream",
     "text": [
      "technologies=['Retrieval Augmented Generation', 'RAG', 'Language Models', 'Transformers', 'PyTorch'] answer='Retrieval Augmented Generation (RAG) is a type of artificial intelligence technology that combines the strengths of retrieval-based and generation-based approaches to generate text, allowing for more accurate and informative responses. RAG models use a retriever to fetch relevant information from a database and a generator to create text based on that information, enabling more effective and knowledgeable responses.' related_subjects=['Natural Language Processing', 'Language Models', 'Text Generation', 'Question Answering', 'Information Retrieval']\n",
      "technologies=['BERT', 'RoBERTa', 'Transformers'] answer='Embedding models, such as BERT and RoBERTa, are a type of neural network that maps input text to dense vectors, which can be used as input to other models, including Retrieval Augmented Generation (RAG) models, to improve their performance and efficiency. RAG models utilize embedding models to generate text based on the input prompt and the retrieved information from a knowledge base, allowing for more accurate and informative text generation.' related_subjects=['Natural Language Processing', 'Language Models', 'Text Generation', 'Information Retrieval', 'Artificial Intelligence']\n"
     ]
    }
   ],
   "source": [
    "# Create a system prompt\n",
    "system_prompt_outformat = \"\"\"\n",
    "You are a helpful assistant. The user will make a question and you need to explain it in 2 sentences.\n",
    "You MUST always answer using the tone and style of. You MUST always provide the correct information.\n",
    "You ONLY answer questions about Retrieval Augmented Generation and AI. For any other questions you will say that you don't know.\n",
    "\n",
    "You MUST always provide the answer in the following format:\n",
    "\n",
    "{format}\n",
    "\"\"\"\n",
    "prompt_elaborated_formated = ChatPromptTemplate([\n",
    "    (\"system\", system_prompt_outformat),\n",
    "    (\"human\", \"{question}\"),\n",
    "]).partial(format=raginfo_parser.get_format_instructions())\n",
    "\n",
    "chain_struct_out = prompt_elaborated_formated | llm | raginfo_parser\n",
    "\n",
    "print(chain_struct_out.invoke({\"question\": \"What is RAG?\"}))\n",
    "print(chain_struct_out.invoke({\"question\": \"What are embedding models and how are they related to RAG?\"}))"
   ]
  },
  {
   "cell_type": "markdown",
   "id": "e4b11bf2",
   "metadata": {},
   "source": [
    "## 4. Loading documents and basic chunking with preprocessing"
   ]
  },
  {
   "cell_type": "markdown",
   "id": "2ede47ed",
   "metadata": {},
   "source": [
    "Document loading and preprocessing "
   ]
  },
  {
   "cell_type": "code",
   "execution_count": 11,
   "id": "ec33def0",
   "metadata": {},
   "outputs": [
    {
     "name": "stderr",
     "output_type": "stream",
     "text": [
      "libmagic is unavailable but assists in filetype detection. Please consider installing libmagic for better results.\n",
      "libmagic is unavailable but assists in filetype detection. Please consider installing libmagic for better results.\n",
      "libmagic is unavailable but assists in filetype detection. Please consider installing libmagic for better results.\n",
      "libmagic is unavailable but assists in filetype detection. Please consider installing libmagic for better results.\n",
      "libmagic is unavailable but assists in filetype detection. Please consider installing libmagic for better results.\n",
      "libmagic is unavailable but assists in filetype detection. Please consider installing libmagic for better results.\n",
      "libmagic is unavailable but assists in filetype detection. Please consider installing libmagic for better results.\n"
     ]
    }
   ],
   "source": [
    "from langchain.document_loaders import DirectoryLoader\n",
    "from langchain.schema import Document\n",
    "import re\n",
    "\n",
    "def preprocess_text(text: str) -> str:\n",
    "    # Remove form feed characters\n",
    "    text = text.replace('\\x0c', ' ')\n",
    "    # Remove bracketed page markers like [0001]\n",
    "    text = re.sub(r'^\\[\\d+\\]', '', text, flags=re.MULTILINE)\n",
    "    # Fix hyphenation at line ends by joining broken words\n",
    "    text = re.sub(r'-\\s*\\n\\s*', '', text)\n",
    "    # Replace single newlines within paragraphs with a space\n",
    "    text = re.sub(r'(?<!\\n)\\n(?!\\n)', ' ', text)\n",
    "    # Collapse multiple blank lines to two newlines\n",
    "    text = re.sub(r'\\n{2,}', '\\n\\n', text)\n",
    "    return text.strip()\n",
    "\n",
    "# Load all .txt and .pdf files from docs/ directory\n",
    "loader = DirectoryLoader(\"../data\", glob=\"**/*.txt\", loader_kwargs={\"encoding\": \"utf-8\"})\n",
    "docs_raw = loader.load()\n",
    "\n",
    "# Apply preprocessing\n",
    "processed_docs = [\n",
    "    Document(page_content=preprocess_text(doc.page_content), metadata=doc.metadata)\n",
    "    for doc in docs_raw\n",
    "]\n"
   ]
  },
  {
   "cell_type": "code",
   "execution_count": 13,
   "id": "2902fbe8",
   "metadata": {},
   "outputs": [
    {
     "data": {
      "text/plain": [
       "7"
      ]
     },
     "execution_count": 13,
     "metadata": {},
     "output_type": "execute_result"
    }
   ],
   "source": [
    "len(processed_docs)"
   ]
  },
  {
   "cell_type": "markdown",
   "id": "9239c285",
   "metadata": {},
   "source": [
    "Chunking"
   ]
  },
  {
   "cell_type": "code",
   "execution_count": 15,
   "id": "3abc19dc",
   "metadata": {},
   "outputs": [
    {
     "name": "stdout",
     "output_type": "stream",
     "text": [
      "Chunk 0: [Abbildung\tMÄRCHENFRAU. \tL. E. Grimm Stahlstich v H.Leedel Göttg]\n",
      "\n",
      "[[I]/0007]\n",
      "\n",
      "Kinder\n",
      "\n",
      "und\n",
      "\n",
      "Hausmärchen\n",
      "\n",
      "gesammelt\n",
      "\n",
      "durch\n",
      "\n",
      "die Brüder Grimm.\n",
      "\n",
      "Zweiter Band.\n",
      "\n",
      "Große Ausgabe.\n",
      "\n",
      "Siebente Auflage.\n",
      "\n",
      "Göttinge ...\n",
      "Chunk 1: 134. Die sechs Diener — 229\n",
      "\n",
      "135. Die weiße und die schwarze Braut — 237\n",
      "\n",
      "136. Eisenhans — 242\n",
      "\n",
      "137. De drei schwatten Princessinnen — 251\n",
      "\n",
      "138. Knoist un sine dre Sühne — 253\n",
      "\n",
      "139. Dat Mäken von Brak ...\n",
      "Chunk 2: 191. Das Meerhäschen — 414\n",
      "\n",
      "192. Der Meisterdieb — 418\n",
      "\n",
      "193. Der Trommler — 427\n",
      "\n",
      "194. Die Kornähre — 438\n",
      "\n",
      "195. Der Grabhügel — 439\n",
      "\n",
      "196. Oll Rinkrank — 444\n",
      "\n",
      "197. Die Krystallkugel — 447\n",
      "\n",
      "198. Jungfrau ...\n"
     ]
    },
    {
     "data": {
      "text/plain": [
       "1685"
      ]
     },
     "execution_count": 15,
     "metadata": {},
     "output_type": "execute_result"
    }
   ],
   "source": [
    "from langchain.text_splitter import RecursiveCharacterTextSplitter\n",
    "\n",
    "# Chunk cleaned documents\n",
    "splitter = RecursiveCharacterTextSplitter(\n",
    "    chunk_size=2000,\n",
    "    chunk_overlap=100,\n",
    "    length_function=len,\n",
    ")\n",
    "\n",
    "chunks = splitter.split_documents(processed_docs)\n",
    "for i, chunk in enumerate(chunks[:3]):\n",
    "    print(f\"Chunk {i}:\", chunk.page_content[:200], \"...\")\n",
    "\n",
    "len(chunks)"
   ]
  },
  {
   "cell_type": "markdown",
   "id": "e37ced8c",
   "metadata": {},
   "source": [
    "## 5. Building FAISS index"
   ]
  },
  {
   "cell_type": "code",
   "execution_count": null,
   "id": "b4f71c86",
   "metadata": {},
   "outputs": [
    {
     "name": "stderr",
     "output_type": "stream",
     "text": [
      "/var/folders/3v/d9b79jtn5q19wfvw74q52x4c0000gn/T/ipykernel_61642/680857444.py:5: LangChainDeprecationWarning: The class `HuggingFaceEmbeddings` was deprecated in LangChain 0.2.2 and will be removed in 1.0. An updated version of the class exists in the :class:`~langchain-huggingface package and should be used instead. To use it run `pip install -U :class:`~langchain-huggingface` and import as `from :class:`~langchain_huggingface import HuggingFaceEmbeddings``.\n",
      "  model_passages = HuggingFaceEmbeddings(model_name=\"jinaai/jina-embeddings-v3\", model_kwargs={\"trust_remote_code\": True}, encode_kwargs={\"task\": \"retrieval.passage\"})\n",
      "/opt/homebrew/Caskroom/miniconda/base/envs/rag-workshop/lib/python3.10/site-packages/tqdm/auto.py:21: TqdmWarning: IProgress not found. Please update jupyter and ipywidgets. See https://ipywidgets.readthedocs.io/en/stable/user_install.html\n",
      "  from .autonotebook import tqdm as notebook_tqdm\n"
     ]
    }
   ],
   "source": [
    "# FAISS index\n",
    "from langchain.embeddings import HuggingFaceEmbeddings, \n",
    "from langchain.vectorstores import FAISS\n",
    "\n",
    "model_passages = HuggingFaceEmbeddings(model_name=\"jinaai/jina-embeddings-v3\", model_kwargs={\"trust_remote_code\": True}, encode_kwargs={\"task\": \"retrieval.passage\"})\n",
    "\n",
    "vectordb = FAISS.from_documents(chunks, model_passages)\n",
    "\n",
    "vectordb.embedding_function = HuggingFaceEmbeddings(model_name=\"jinaai/jina-embeddings-v3\", model_kwargs={\"trust_remote_code\": True}, encode_kwargs={\"task\": \"retrieval.query\"})\n",
    "\n",
    "def faiss_retriever(query, k=5):\n",
    "    return vectordb.similarity_search(query, k=k)"
   ]
  },
  {
   "cell_type": "markdown",
   "id": "ab0a3666",
   "metadata": {},
   "source": [
    "## 6. Basic RAG with FAISS"
   ]
  },
  {
   "cell_type": "code",
   "execution_count": 17,
   "id": "3d867267",
   "metadata": {},
   "outputs": [],
   "source": [
    "system_prompt = (\n",
    "    \"Du bist ein hilfreicher KI-Assistent. Du bekommst eine Nutzerfrage \"\n",
    "    \"und einige Artikel-Ausschnitte. Beantworte die Nutzerfrage, \"\n",
    "    \"sofern die Artikel eine Antwort enthalten. Falls keine der Artikel die Frage beantworten, \"\n",
    "    \"sage einfach, dass du es nicht weißt.\"\n",
    "    \"\\n\\nHier sind die Artikel: \"\n",
    "    \"{context}\"\n",
    ")\n",
    "prompt = ChatPromptTemplate.from_messages(\n",
    "    [\n",
    "        (\"system\", system_prompt),\n",
    "        (\"human\", \"{question}\"),\n",
    "    ]\n",
    ")"
   ]
  },
  {
   "cell_type": "code",
   "execution_count": 18,
   "id": "aeedf28e",
   "metadata": {},
   "outputs": [
    {
     "name": "stdout",
     "output_type": "stream",
     "text": [
      "Document 0:\n",
      "[149/0151] im Gegenteil, ich würde dir noch Geld geben, damit du dich für die gute Sache kräftigst.“ „Was du sagst, klingt ja glaubwürdig,“ sagte der Prügler, „aber ich lasse mich nicht bestechen. Ich bin zum Prügeln angestellt, also prügle ich.“ Der Wächter Franz, der vielleicht in Erwartung eines guten Ausgangs des Eingreifens von K. bisher ziemlich zurückhaltend gewesen war, trat jetzt nur noch mit den Hosen bekleidet zur Tür, hing sich niederkniend an K.s Arm und flüsterte: „Wenn du für uns beide Schonung nicht durchsetzen kannst, so versuche wenigstens mich zu befreien. Willem ist älter als ich, in jeder Hinsicht weniger empfindlich, auch hat er schon einmal vor paar Jahren eine leichte Prügelstrafe bekommen, ich aber bin noch nicht entehrt und bin doch zu meiner Handlungsweise nur durch Willem gebracht worden, der im Guten und Schlechten mein Lehrer ist. Unten vor der Bank wartet meine arme Braut auf den Ausgang, ich schäme mich ja so erbärmlich.“ Er trocknete mit K.s Rock sein von Tränen ganz überlaufenes Gesicht. „Ich warte nicht mehr,“ sagte der Prügler, faßte die Rute mit beiden Händen und hieb auf Franz ein, während...\n",
      "\n",
      "Document 1:\n",
      "[12/0014] umschlungen hielt. K. mußte dieser Schaustellung ein Ende machen: „Führen Sie mich zu Ihrem Vorgesetzten,“ sagte er. „Bis er es wünscht; nicht früher,“ sagte der Wächter, der Willem genannt worden war. „Und nun rate ich Ihnen,“ fügte er hinzu, „in Ihr Zimmer zu gehn, sich ruhig zu verhalten und darauf zu warten, was über Sie verfügt werden wird. Wir raten Ihnen, zerstreuen Sie sich nicht durch nutzlose Gedanken, sondern sammeln Sie sich, es werden große Anforderungen an Sie gestellt werden. Sie haben uns nicht so behandelt, wie es unser Entgegenkommen verdient hätte, Sie haben vergessen, daß wir, mögen wir auch sein was immer, zumindest jetzt Ihnen gegenüber freie Männer sind, das ist kein kleines Übergewicht. Trotzdem sind wir bereit, falls Sie Geld haben, Ihnen ein kleines Frühstück aus dem Kaffeehaus drüben zu bringen.“ Ohne auf dieses Angebot zu antworten, stand K. ein Weilchen lang still. Vielleicht würden ihn die beiden, wenn er die Tür des folgenden Zimmers oder gar die Tür des Vorzimmers öffnen würde, gar nicht zu hindern wagen, vielleicht wäre es die einfachste Lösung des Ganzen, daß er es auf die...\n",
      "\n",
      "Document 2:\n",
      "[147/0149] hatte ein wildes frisches Gesicht. „Gibt es keine Möglichkeit, den zweien die Prügel zu ersparen,“ fragte er ihn. „Nein,“ sagte der Prügler und schüttelte lächelnd den Kopf. „Zieht euch aus,“ befahl er den Wächtern. Und zu K. sagte er: „Du mußt ihnen nicht alles glauben, sie sind durch die Angst vor den Prügeln schon ein wenig schwachsinnig geworden. Was dieser hier z. B.“ – er zeigte auf Willem – „über seine mögliche Laufbahn erzählt hat, ist geradezu lächerlich. Sieh an, wie fett er ist – die ersten Rutenstreiche werden überhaupt im Fett verloren gehn. – Weißt du, wodurch er so fett geworden ist? Er hat die Gewohnheit, allen Verhafteten das Frühstück aufzuessen. Hat er nicht auch dein Frühstück aufgegessen? Nun, ich sagte es ja. Aber ein Mann mit einem solchen Bauch kann nie und nimmermehr Prügler werden, das ist ganz ausgeschlossen.“ „Es gibt auch solche Prügler,“ behauptete Willem, der gerade seinen Hosengürtel löste. „Nein,“ sagte der Prügler und strich ihm mit der Rute derartig über den Hals, daß er zusammenzuckte, „du sollst nicht zuhören, sondern dich ausziehn.“ „Ich würde dich gut belohnen, wenn du sie laufen...\n",
      "\n",
      "Document 3:\n",
      "[145/0147] uns urteilen. Ich habe eine Familie zu ernähren und Franz hier wollte heiraten, man sucht sich zu bereichern, wie es geht, durch bloße Arbeit gelingt es nicht, selbst durch die angestrengteste. Eure feine Wäsche hat mich verlockt, es ist natürlich den Wächtern verboten, so zu handeln, es war unrecht, aber Tradition ist es, daß die Wäsche den Wächtern gehört, es ist immer so gewesen, glaubt es mir; es ist ja auch verständlich, was bedeuten denn noch solche Dinge für den, welcher so unglücklich ist, verhaftet zu werden. Bringt er es dann allerdings öffentlich zur Sprache, dann muß die Strafe erfolgen.“ „Was ihr jetzt sagt, wußte ich nicht, ich habe auch keineswegs Eure Bestrafung verlangt, mir ging es um ein Prinzip.“ „Franz,“ wandte sich Willem zum andern Wächter, „sagte ich dir nicht, daß der Herr unsere Bestrafung nicht verlangt hat. Jetzt hörst du, daß er nicht einmal gewußt hat, daß wir bestraft werden müssen.“ „Laß dich nicht durch solche Reden rühren,“ sagte der Dritte zu K., „die Strafe ist ebenso gerecht als unvermeidlich.“ „Höre nicht auf ihn,“ sagte Willem und unterbrach sich nur, um die Hand, über die er einen Rutenhieb bekommen...\n",
      "\n",
      "Document 4:\n",
      "[11/0013] gäbe es da einen Irrtum?“ „Dieses Gesetz kenne ich nicht,“ sagte K. „Desto schlimmer für Sie,“ sagte der Wächter. „Es besteht wohl auch nur in Ihren Köpfen,“ sagte K., er wollte sich irgendwie in die Gedanken der Wächter einschleichen, sie zu seinen Gunsten wenden oder sich dort einbürgern. Aber der Wächter sagte nur abweisend: „Sie werden es zu fühlen bekommen.“ Franz mischte sich ein und sagte: „Sieh, Willem, er gibt zu, er kenne das Gesetz nicht und behauptet gleichzeitig, schuldlos zu sein.“ „Du hast ganz recht, aber ihm kann man nichts begreiflich machen,“ sagte der andere. K. antwortete nichts mehr; muß ich, dachte er, durch das Geschwätz dieser niedrigsten Organe – sie geben selbst zu, es zu sein – mich noch mehr verwirren lassen? Sie reden doch jedenfalls von Dingen, die sie gar nicht verstehn. Ihre Sicherheit ist nur durch ihre Dummheit möglich. Ein paar Worte, die ich mit einem mir ebenbürtigen Menschen sprechen werde, werden alles unvergleichlich klarer machen als die längsten Reden mit diesen. Er ging einige Male in dem freien Raum des Zimmers auf und ab, drüben sah er die alte Frau, die einen noch viel ältern Greis zum Fenster gezerrt hatte, den sie...\n",
      "\n",
      "Document 5:\n",
      "[146/0148] hatte, schnell an den Mund zu führen, „wir werden nur gestraft, weil du uns angezeigt hast. Sonst wäre uns nichts geschehn, selbst wenn man erfahren hätte, was wir getan haben. Kann man das Gerechtigkeit nennen? Wir zwei, insbesondere aber ich, hatten uns als Wächter durch lange Zeit sehr bewährt – du selbst mußt eingestehn, daß wir, vom Gesichtspunkt der Behörde gesehn, gut gewacht haben – wir hatten Aussicht, vorwärts zu kommen und wären gewiß bald auch Prügler geworden, wie dieser, der eben das Glück hatte, von niemandem angezeigt worden zu sein, denn eine solche Anzeige kommt wirklich nur sehr selten vor. Und jetzt, Herr, ist alles verloren, unsere Laufbahn beendet, wir werden noch viel untergeordnetere Arbeiten leisten müssen, als der Wachdienst ist, und überdies bekommen wir jetzt diese schrecklich schmerzhaften Prügel.“ „Kann denn die Rute solche Schmerzen machen,“ fragte K. und prüfte die Rute, die der Prügler vor ihm schwang. „Wir werden uns ja ganz nackt ausziehn müssen,“ sagte Willem. „Ach so,“ sagte K. und sah den Prügler genau an, er war braun gebrannt wie ein Matrose und...\n",
      "\n",
      "Document 6:\n",
      "[150/0152] Willem in einem Winkel kauerte und heimlich zusah, ohne eine Kopfwendung zu wagen. Da erhob sich der Schrei, den Franz ausstieß, ungeteilt und unveränderlich, er schien nicht von einem Menschen, sondern von einem gemarterten Instrument zu stammen, der ganze Korridor tönte von ihm, das ganze Haus mußte es hören. „Schrei nicht,“ rief K., er konnte sich nicht zurückhalten, und während er gespannt in die Richtung sah, aus der die Diener kommen mußten, stieß er den Franz, nicht stark aber doch stark genug, daß der Besinnungslose niederfiel und im Krampf mit den Händen den Boden absuchte; den Schlägen entging er aber nicht, die Rute fand ihn auch auf der Erde; während er sich unter ihr wälzte, schwang sich ihre Spitze regelmäßig auf und ab. Und schon erschien in der Ferne ein Diener und ein paar Schritte hinter ihm ein zweiter. K. hatte schnell die Tür zugeworfen, war zu einem nahen Hoffenster getreten und öffnete es. Das Schreien hatte vollständig aufgehört. Um die Diener nicht herankommen zu lassen, rief er: „Ich bin es.“ „Guten Abend, Herr Prokurist,“ rief es zurück. „Ist etwas geschehn?“ „Nein, nein,“ antwortete K. „es...\n",
      "\n",
      "Document 7:\n",
      "[460/0472] angelangt waren, gieng er zu seinen alten Kameraden und sprach ‘ich habe draußen im Wald ein Nest voll Galgenvögel aufgefunden, kommt mit, wir wollen es ausheben.’ Der Soldat führte sie an und sprach zu dem Jäger ‘du mußt wieder mit zurück und zusehen wie sie flattern, wenn wir sie an den Füßen packen.’ Er stellte die Mannschaft rings um die Räuber herum, dann nahm er die Flasche, trank einen Schluck, schwenkte sie über ihnen her und rief ‘ihr sollt alle leben!’ Augenblicklich hatten sie ihre Bewegung wieder, wurden aber niedergeworfen und an Händen und Füßen mit Stricken gebunden. Dann hieß sie der Soldat wie Säcke auf einen Wagen werfen und sagte ‘fahrt sie nur gleich vor das Gefängnis.’ Der Jäger aber nahm einen von der Mannschaft bei Seite und gab ihm noch eine Bestellung mit.\n",
      "\n",
      "‘Bruder Wichsstiefel,’ sprach der Soldat, ‘wir haben den Feind glücklich überrumpelt und uns wohl genährt, jetzt wollen wir als Nachzügler in aller Ruhe hinter her marschieren.’ Als sie sich der Stadt näherten, so sah der Soldat wie sich eine Menge Menschen aus dem Stadtthor drängten, lautes Freudengeschrei erhuben und grüne Zweige in der Luft schwangen. Dann sah er daß die ganze Leibwache herangezogen kam. ‘Was soll das heißen?’ sprach er ganz verwundert zu dem Jäger. ‘Weißt du nicht’ antwortete er, ‘daß der König lange Zeit aus seinem Reich entfernt war, heute kehrt er zurück, und da gehen ihm alle entgegen.’ ‘Aber wo ist der König’ sprach der Soldat, ‘ich sehe ihn nicht.’ ‘Hier ist er,’ antwortete der Jäger, ‘ich bin der König und habe meine Ankunft melden lassen.’ Dann öffnete er seinen Jägerrock, daß man die königlichen Kleider sehen konnte. Der Soldat erschrack, fiel auf die Knie und bat ihn um Vergebung daß er ihn in der Unwissenheit wie seines Gleichen behandelt und ihn mit solchem Namen angeredet habe. Der König aber reichte ihm die Hand und sprach ‘du bist ein braver Soldat und hast mir das Leben gerettet. Du sollst...\n",
      "\n",
      "Document 8:\n",
      "[61/0063] einem Handkarren schaukelten zwei Jungen. Vor einer Pumpe stand ein schwaches junges Mädchen in einer Nachtjoppe und blickte, während das Wasser in ihre Kanne strömte, auf K. hin. In einer Ecke des Hofes wurde zwischen zwei Fenstern ein Strick gespannt, auf dem die zum Trocknen bestimmte Wäsche schon hing. Ein Mann stand unten und leitete die Arbeit durch ein paar Zurufe. K. wandte sich der Treppe zu, um zum Untersuchungszimmer zu kommen, stand dann aber wieder still, denn außer dieser Treppe sah er im Hof noch drei verschiedene Treppenaufgänge und überdies schien ein kleiner Durchgang am Ende des Hofes noch in einen zweiten Hof zu führen. Er ärgerte sich, daß man ihm die Lage des Zimmers nicht näher bezeichnet hatte, es war doch eine sonderbare Nachlässigkeit oder Gleichgültigkeit, mit der man ihn behandelte, er beabsichtigte, das sehr laut und deutlich festzustellen. Schließlich stieg er doch die erste Treppe hinauf und spielte in Gedanken mit einer Erinnerung an den Ausspruch des Wächters Willem, daß das Gericht von der Schuld angezogen werde, woraus eigentlich...\n",
      "\n",
      "Document 9:\n",
      "Astrolog. Der glühnde Schlüssel rührt die Schale kaum, Ein dunstiger Nebel deckt sogleich den Raum, Er schleicht sich ein, er wogt nach Wolkenart, Gedehnt, geballt, verschränkt, getheilt, gepaart.\n",
      "\n",
      "[85/0097]\n",
      "\n",
      "Und nun erkennt ein Geister-Meister-Stück! So wie sie wandeln machen sie Musik. Aus luftigen Tönen quillt ein Weißnichtwie, Indem sie ziehn wird alles Melodie. Der Säulenschaft, auch die Triglyphe klingt, Ich glaube gar der ganze Tempel singt. Das Dunstige senkt sich; aus dem leichten Flor Ein schöner Jüngling tritt im Tact hervor. Hier schweigt mein Amt, ich brauch’ ihn nicht zu nennen, Wer sollte nicht den holden Paris kennen!\n",
      "\n",
      "Dame. O! welch ein Glanz auf blühnder Jugendkraft!\n",
      "\n",
      "Zweyte. Wie eine Pfirsche frisch und voller Saft!\n",
      "\n",
      "Dritte. Die fein gezognen, süß geschwollnen Lippen!\n",
      "\n",
      "Vierte. Du möchtest wohl an solchem Becher nippen?\n",
      "\n",
      "Fünfte. Er ist gar hübsch, wenn auch nicht eben fein.\n",
      "\n",
      "Sechste. Ein bißchen könnt’ er doch gewandter seyn.\n",
      "\n",
      "Ritter. Den Schäferknecht glaub’ ich allhier zu spüren; Vom Prinzen nichts und nichts von Hofmanieren.\n",
      "\n",
      "Andrer. Eh nun! halb nackt ist wohl der Junge schön, Doch müßten wir ihn erst im Harnisch sehn!\n",
      "\n",
      "[86/0098]\n",
      "\n",
      "Dame. Er setzt sich nieder, weichlich, angenehm.\n",
      "\n",
      "Ritter. Auf seinem Schoße wär’ euch wohl bequem?\n",
      "\n",
      "Andre. Er lehnt den Arm so zierlich über’s Haupt.\n",
      "\n",
      "Kämmerer. Die Flegeley! das find’ ich unerlaubt!\n",
      "\n",
      "Dame. Ihr Herren wißt an allem was zu mäkeln.\n",
      "\n",
      "Derselbe. In Kaisers Gegenwart sich hinzuräckeln!\n",
      "\n",
      "Dame. Er stellt’s nur vor! Er glaubt sich ganz allein.\n",
      "\n",
      "Derselbe. Das Schauspiel selbst, hier sollt’ es höflich seyn.\n",
      "\n",
      "Dame. Sanft hat der Schlaf den Holden übernommen.\n",
      "\n",
      "Derselbe. Er schnarcht nun gleich, natürlich ist’s, vollkommen.\n",
      "\n",
      "Junge Dame (entzückt). Zum Weihrauchsdampf was duftet so gemischt, Das mir das Herz zum innigsten erfrischt?\n",
      "\n",
      "Aeltere. Fürwahr! es dringt ein Hauch tief in’s Gemüthe, Er kommt von ihm!\n",
      "\n",
      "Aelteste. Es ist des Wachsthums Blüthe,\n",
      "\n",
      "[87/0099]...\n",
      "\n",
      "Document 10:\n",
      "[441/0453] kam, erblickte er an der Mauer des Kirchhofs einen Mann, den er noch nie gesehen hatte. Er war nicht mehr jung, hatte Narben im Gesicht und seine Augen blickten scharf und feurig umher. Er war ganz von einem alten Mantel bedeckt und nur große Reiterstiefeln waren sichtbar. ‘Was sucht ihr hier?’ redete ihn der Bauer an, ‘gruselt euch nicht auf dem einsamen Kirchhof?’ ‘Jch suche nichts,’ antwortete er, ‘aber ich fürchte auch nichts. Jch bin wie der Junge, der ausgieng das Gruseln zu lernen, und sich vergeblich bemühte, der aber bekam die Königstochter zur Frau und mit ihr große Reichthümer, und ich bin immer arm geblieben. Jch bin nichts als ein abgedankter Soldat und will hier die Nacht zubringen, weil ich sonst kein Obdach habe.’ ‘Wenn ihr keine Furcht habt,’ sprach der Bauer, ‘so bleibt bei mir und helft mir dort den Grabhügel bewachen.’ ‘Wacht halten ist Sache des Soldaten’ antwortete er, ‘was uns hier begegnet, Gutes oder Böses, das wollen wir gemeinschaftlich tragen.’ Der Bauer schlug ein und sie setzten sich zusammen auf das Grab.\n",
      "\n",
      "Alles blieb still bis Mitternacht, da ertönte auf einmal ein schneidendes Pfeifen in der Luft, und die beiden Wächter erblickten den Bösen, der leibhaftig vor ihnen stand. ‘Fort, ihr Halunken,’ rief er ihnen zu, ‘der in dem Grab liegt, ist mein: ich will ihn holen, und wo ihr nicht weg geht, dreh ich euch die Hälse um.’ ‘Herr mit der rothen Feder,’ sprach der Soldat, ‘ihr seid mein Hauptmann nicht, ich brauch euch nicht zu gehorchen, und das Fürchten hab ich noch nicht gelernt. Geht eurer Wege, wir bleiben hier sitzen.’ Der Teufel dachte ‘mit Gold fängst du die zwei Haderlumpen am besten,’ zog gelindere Saiten auf und fragte ganz zutraulich ob sie nicht einen Beutel mit Gold annehmen und damit heim gehen wollten. ‘Das läßt sich hören,’ antwortete der Soldat, ‘aber mit Einem Beutel voll Gold ist uns nicht gedient: wenn ihr so viel Gold geben wollt als da in einen von meinen Stiefeln...\n",
      "\n",
      "Document 11:\n",
      "[31/0064] Als der alte König zu Grabe getragen war, da erzählte der treue Johannes dem jungen König was er seinem Vater auf dem Sterbelager versprochen hatte, und sagte ‘das will ich gewißlich halten, und will dir treu sein, wie ich ihm gewesen bin, und sollte es mein Leben kosten.’ Die Trauer gieng vorüber, da sprach der treue Johannes zu ihm ‘es ist nun Zeit, daß du dein Erbe siehst: ich will dir dein väterliches Schloß zeigen.’ Da führte er ihn überall herum, auf und ab, und ließ ihn alle die Reichthümer und prächtigen Kammern sehen: nur die eine Kammer öffnete er nicht, worin das gefährliche Bild stand. Das Bild war aber so gestellt, daß, wenn die Thüre aufgieng, man gerade darauf sah, und war so herrlich gemacht, daß man meinte es leibte und lebte, und es gäbe nichts lieblicheres und schöneres auf der ganzen Welt. Der junge König aber merkte wohl daß der getreue Johannes immer an einer Thür vorübergieng und sprach ‘warum schließest du mir diese niemals auf?’ ‘Es ist etwas darin,’ antwortete er, ‘vor dem du erschrickst.’ Aber der König antwortete ‘ich habe das ganze Schloß gesehen, so will ich auch wissen was darin ist,’ gieng und wollte die Thüre mit Gewalt öffnen. Da hielt ihn der getreue Johannes zurück und sagte ‘ich habe es deinem Vater vor seinem Tode versprochen, daß du nicht sehen sollst was in der Kammer steht: es könnte dir und mir zu großem Unglück ausschlagen.’ ‘Ach nein,’ antwortete der junge König, ‘wenn ich nicht hineinkomme, so ists es mein sicheres Verderben: ich würde Tag und Nacht keine Ruhe haben, bis ichs mit meinen Augen gesehen hätte. Nun gehe ich nicht von der Stelle, bis du aufgeschlossen hast.’\n",
      "\n",
      "Da sah der getreue Johannes daß es nicht mehr zu ändern war, und suchte mit schwerem Herzen und vielem Seufzen aus dem großen Bund den Schlüssel heraus. Als er die Thüre geöffnet hatte, trat er zuerst hinein und dachte er wolle das Bildnis bedecken daß es der König vor ihm nicht sähe: aber was half das?...\n",
      "\n",
      "Document 12:\n",
      "[360/0372] zugeschnitten und selbst in Arbeit genommen habt. Als ihr vorhin aufgesprungen seid, habt ihr ihn vom Tisch herabgeworfen, und ich habe ihn nur aufgehoben. Euch könnte es aber ein Engel vom Himmel nicht recht machen.’\n",
      "\n",
      "Meister Pfriem träumte in einer Nacht er wäre gestorben und befände sich auf dem Weg nach dem Himmel. Als er anlangte, klopfte er heftig an die Pforte: ‘es wundert mich,’ sprach er, ‘daß sie nicht einen Ring am Thor haben, man klopft sich die Knöchel wund.’ Der Apostel Petrus öffnete und wollte sehen wer so ungestüm Einlaß begehrte. ‘Ach, ihr seids, Meister Pfriem,’ sagte er, ‘ich will euch wohl einlassen, aber ich warne euch daß ihr von eurer Gewohnheit ablaßt und nichts tadelt, was ihr im Himmel seht: es könnte euch übel bekommen.’ ‘Jhr hättet euch die Ermahnung sparen können,’ erwiederte Pfriem, ‘ich weiß schon was sich ziemt, und hier ist, Gott sei Dank, alles vollkommen und nichts zu tadeln, wie auf Erden.’ Er trat also ein und gieng in den weiten Räumen des Himmels auf und ab. Er sah sich um, rechts und links, schüttelte aber zuweilen mit dem Kopf oder brummte etwas vor sich hin. Jndem erblickte er zwei Engel, die einen Balken wegtrugen. Es war der Balken, den einer im Auge gehabt hatte, während er nach dem Splitter in den Augen anderer suchte. Sie trugen aber den Balken nicht der Länge nach, sondern queer. ‘Hat man je einen solchen Unverstand gesehen?’ dachte Meister Pfriem; doch schwieg er und gab sich zufrieden: ‘es ist im Grunde einerlei, wie man den Balken trägt, gerade aus oder queer, wenn man nur damit durchkommt, und wahrhaftig ich sehe sie stoßen nirgend an.’ Bald hernach erblickte er zwei Engel, welche Wasser aus einem Brunnen in ein Faß schöpften, zugleich bemerkte er, daß das Faß durchlöchert war und das Wasser von allen Seiten herauslief. Sie tränkten die Erde mit Regen. ‘Alle Hagel!’ platzte er heraus, besann sich aber glücklicherweise und...\n",
      "\n",
      "Document 13:\n",
      "[247/0280] mich allein zurückgelassen,’ und erzählte ihm daß es aus seinem Fensterlein mit angesehen habe wie seine Brüder als Schwäne über den Wald weggeflogen wären, und zeigte ihm die Federn, die sie in dem Hof hatten fallen lassen, und die es aufgelesen hatte. Der König trauerte, aber er dachte nicht daß die Königin die böse That vollbracht hätte, und weil er fürchtete das Mädchen würde ihm auch geraubt, so wollte er es mit fortnehmen. Aber es hatte Angst vor der Stiefmutter, und bat den König daß es nur noch diese Nacht im Waldschloß bleiben dürfte.\n",
      "\n",
      "Das arme Mädchen dachte ‘meines Bleibens ist nicht länger hier, ich will gehen und meine Brüder suchen.’ Und als die Nacht kam, entfloh es, und gieng gerade in den Wald hinein. Es gieng die ganze Nacht durch und auch den andern Tag in einem fort, bis es vor Müdigkeit nicht weiter konnte. Da sah es eine Wildhütte, stieg hinauf, und fand eine Stube mit sechs kleinen Betten, aber es getraute nicht sich in eins zu legen, sondern kroch unter eins, legte sich auf den harten Boden und wollte die Nacht da zubringen. Als aber die Sonne bald untergehen wollte, hörte es ein Rauschen und sah daß sechs Schwäne zum Fenster hereingeflogen kamen. Sie setzten sich auf den Boden, und bliesen einander an und bliesen sich alle Federn ab, und ihre Schwanenhaut streifte sich ab wie ein Hemd. Da sah sie das Mädchen an und erkannte ihre Brüder, freute sich und kroch unter dem Bett hervor. Die Brüder waren nicht weniger erfreut als sie ihr Schwesterchen erblickten, aber ihre Freude war von kurzer Dauer. ‘Hier kann deines Bleibens nicht sein,’ sprachen sie zu ihm, ‘das ist eine Herberge für Räuber, wenn die heim kommen und finden dich, so ermorden sie dich.’ ‘Könnt ihr mich denn nicht beschützen?’ fragte das Schwesterchen. ‘Nein,’ antworteten sie, ‘denn wir können nur eine Viertelstunde lang jeden Abend unsere Schwanenhaut ablegen, und haben in dieser Zeit unsere menschliche Gestalt, aber dann...\n",
      "\n",
      "Document 14:\n",
      "[243/0255] und das Wasser ausschöpfen. Als sie auf den Grund sehen konnten, so lag da ein wilder Mann, der braun am Leib war, wie rostiges Eisen, und dem die Haare über das Gesicht bis zu den Knieen herab hiengen. Sie banden ihn mit Stricken und führten ihn fort, in das Schloß. Da war große Verwunderung über den wilden Mann, der König aber ließ ihn in einen eisernen Käfig auf seinen Hof setzen und verbot bei Lebensstrafe die Thüre des Käfigs zu öffnen, und die Königin mußte den Schlüssel selbst in Verwahrung nehmen. Von nun an konnte ein jeder wieder mit Sicherheit in den Wald gehen.\n",
      "\n",
      "Der König hatte einen Sohn von acht Jahren, der spielte einmal auf dem Hof, und bei dem Spiel fiel ihm sein goldener Ball in den Käfig. Der Knabe lief hin und sprach ‘gib mir meinen Ball heraus.’ ‘Nicht eher,’ antwortete der Mann, ‘als bis du mir die Thüre aufgemacht hast.’ ‘Nein,’ sagte der Knabe, ‘das thue ich nicht, das hat der König verboten,’ und lief fort. Am andern Tag kam er wieder und forderte seinen Ball: der wilde Mann sagte ‘öffne meine Thüre,’ aber der Knabe wollte nicht. Am dritten Tag war der König auf die Jagd geritten, da kam der Knabe nochmals und sagte ‘wenn ich auch wollte, ich kann die Thüre nicht öffnen, ich habe den Schlüssel nicht.’ Da sprach der wilde Mann ‘er liegt unter dem Kopfkissen deiner Mutter, da kannst du ihn holen.’ Der Knabe, der seinen Ball wieder haben wollte, schlug alles Bedenken in den Wind und brachte den Schlüssel herbei. Die Thüre gieng schwer auf, und der Knabe klemmte sich den Finger. Als sie offen war, trat der wilde Mann heraus, gab ihm den goldenen Ball und eilte hinweg. Dem Knaben war angst geworden, er schrie und rief ihm nach ‘ach, wilder Mann, geh nicht fort, sonst bekomme ich Schläge.’ Der wilde Mann kehrte um, hob ihn auf, setzte ihn auf seinen Nacken und gieng mit schnellen Schritten in den Wald hinein. Als der König heim...\n",
      "\n",
      "Document 15:\n",
      "[10/0012] der Blicke mit Franz ein, schlug dann aber doch auf seine Papiere und sagte: „Hier sind meine Legitimationspapiere.“ „Was kümmern uns denn die?“ rief nun schon der große Wächter. „Sie führen sich ärger auf als ein Kind. Was wollen Sie denn? Wollen Sie Ihren großen verfluchten Prozeß dadurch zu einem raschen Ende bringen, daß Sie mit uns, den Wächtern, über Legitimation und Verhaftbefehl diskutieren. Wir sind niedrige Angestellte, die sich in einem Legitimationspapier kaum auskennen und die mit Ihrer Sache nichts anderes zu tun haben, als daß sie zehn Stunden täglich bei Ihnen Wache halten und dafür bezahlt werden. Das ist alles, was wir sind, trotzdem aber sind wir fähig, einzusehn, daß die hohen Behörden, in deren Dienst wir stehn, ehe sie eine solche Verhaftung verfügen, sich sehr genau über die Gründe der Verhaftung und die Person des Verhafteten unterrichten. Es gibt darin keinen Irrtum. Unsere Behörde, soweit ich sie kenne, und ich kenne nur die niedrigsten Grade, sucht doch nicht etwa die Schuld in der Bevölkerung, sondern wird, wie es im Gesetz heißt, von der Schuld angezogen und muß uns Wächter ausschicken. Das ist Gesetz. Wo...\n",
      "\n",
      "Document 16:\n",
      "[17/0019] Als er vollständig angezogen war, mußte er knapp vor Willem durch das leere Nebenzimmer in das folgende Zimmer gehn, dessen Tür mit beiden Flügeln bereits geöffnet war. Dieses Zimmer wurde, wie K. genau wußte, seit kurzer Zeit von einem Fräulein Bürstner, einer Schreibmaschinistin, bewohnt, die sehr früh in die Arbeit zu gehen pflegte, spät nach Hause kam und mit der K. nicht viel mehr als die Grußworte gewechselt hatte. Jetzt war das Nachttischchen von ihrem Bett als Verhandlungstisch in die Mitte des Zimmers gerückt und der Aufseher saß hinter ihm. Er hatte die Beine übereinandergeschlagen und einen Arm auf die Rückenlehne des Stuhles gelegt. In einer Ecke des Zimmers standen drei junge Leute und sahen die Photographien des Fräulein Bürstner an, die in einer an der Wand aufgehängten Matte steckten. An der Klinke des offenen Fensters hing eine weiße Bluse. Im gegenüberliegenden Fenster lagen wieder die zwei Alten, doch hatte sich ihre Gesellschaft vergrößert, denn hinter ihnen, sie weit überragend, stand ein Mann mit einem auf der Brust offenen Hemd, der seinen rötlichen Spitzbart mit den Fingern drückte und drehte....\n",
      "\n",
      "Document 17:\n",
      "[16/0018] brummte er noch, hob aber schon einen Rock vom Stuhl und hielt ihn ein Weilchen mit beiden Händen, als unterbreite er ihn dem Urteil der Wächter. Sie schüttelten die Köpfe. „Es muß ein schwarzer Rock sein,“ sagten sie. K. warf daraufhin den Rock zu Boden und sagte – er wußte selbst nicht, in welchem Sinn er es sagte –: „Es ist doch noch nicht die Hauptverhandlung.“ Die Wächter lächelten, blieben aber bei ihrem: „Es muß ein schwarzer Rock sein.“ „Wenn ich dadurch die Sache beschleunige, soll es mir recht sein,“ sagte K., öffnete selbst den Kleiderkasten, suchte lange unter den vielen Kleidern, wählte sein bestes schwarzes Kleid, ein Jackettkleid, das durch seine Taille unter den Bekannten fast Aufsehen gemacht hatte, zog nun auch ein anderes Hemd hervor und begann sich sorgfältig anzuziehn. Im Geheimen glaubte er eine Beschleunigung des Ganzen damit erreicht zu haben, daß die Wächter vergessen hatten, ihn zum Bad zu zwingen. Er beobachtete sie, ob sie sich vielleicht daran doch erinnern würden, aber das fiel ihnen natürlich gar nicht ein, dagegen vergaß Willem nicht, Franz mit der Meldung, daß sich K. anziehe, zum Aufseher zu schicken....\n",
      "\n",
      "Document 18:\n",
      "[143/0145]\n",
      "\n",
      "FÜNFTES KAPITEL\n",
      "\n",
      "DER PRÜGLER\n",
      "\n",
      "Als K. an einem der nächsten Abende den Korridor passierte, der sein Bureau von der Haupttreppe trennte – er ging diesmal fast als der letzte nach Hause, nur in der Expedition arbeiteten noch zwei Diener im kleinen Lichtfeld einer Glühlampe – hörte er hinter einer Tür, hinter der er immer nur eine Rumpelkammer vermutet hatte, ohne sie jemals selbst gesehen zu haben, Seufzer ausstoßen. Er blieb erstaunt stehn und horchte noch einmal auf, um festzustellen, ob er sich nicht irrte – es wurde ein Weilchen still, dann waren es aber doch wieder Seufzer. – Zuerst wollte er einen der Diener holen, man konnte vielleicht einen Zeugen brauchen, dann aber faßte ihn eine derart unbezähmbare Neugierde, daß er die Tür förmlich aufriß. Es war, wie er richtig vermutet hatte, eine Rumpelkammer. Unbrauchbare alte Drucksorten,\n",
      "\n",
      "[144/0146] umgeworfene leere irdene Tintenflaschen lagen hinter der Schwelle. In der Kammer selbst aber standen drei Männer, gebückt in dem niedrigen Raum. Eine auf einem Regal festgemachte Kerze gab ihnen Licht. „Was treibt ihr hier?“ fragte K., sich vor Aufregung überstürzend, aber nicht laut. Der eine Mann, der die andern offenbar beherrschte und zuerst den Blick auf sich lenkte, stak in einer Art dunklen Lederkleidung, die den Hals bis tief zur Brust und die ganzen Arme nackt ließ. Er antwortete nicht. Aber die zwei andern riefen: „Herr! Wir sollen geprügelt werden, weil du dich beim Untersuchungsrichter über uns beklagt hast.“ Und nun erst erkannte K., daß es wirklich die Wächter Franz und Willem waren, und daß der Dritte eine Rute in der Hand hielt, um sie zu prügeln. „Nun,“ sagte K. und starrte sie an, „ich habe mich nicht beklagt, ich habe nur gesagt, wie es sich in meiner Wohnung zugetragen hat. Und einwandfrei habt Ihr Euch ja nicht benommen.“ „Herr,“ sagte Willem, während Franz sich hinter ihm vor dem Dritten offenbar zu sichern suchte, „wenn Ihr wüßtet, wie schlecht wir bezahlt sind, Ihr würdet besser über...\n",
      "\n",
      "Document 19:\n",
      "[427/0439] 193. Der Trommler. Eines Abends gieng ein junger Trommler ganz allein auf dem Feld und kam an einen See, da sah er an dem Ufer drei Stückchen weiße Leinewand liegen. ‘Was für feines Leinen’ sprach er, und steckte eins davon in die Tasche. Er gieng heim, dachte nicht weiter an seinen Fund und legte sich zu Bett. Als er eben einschlafen wollte, war es ihm als nennte jemand seinen Namen. Er horchte und vernahm eine leise Stimme, die ihm zurief ‘Trommeler, Trommeler, wach auf.’ Er konnte, da es finstere Nacht war, niemand sehen, aber es kam ihm vor als schwebte eine Gestalt vor seinem Bett auf und ab. ‘Was willst du?’ fragte er. ‘Gib mir mein Hemdchen zurück,’ antwortete die Stimme, ‘das du mir gestern Abend am See weggenommen hast.’ ‘Du sollst es wieder haben,’ sprach der Trommler, ‘wenn du mir sagst wer du bist.’ ‘Ach,’ erwiederte die Stimme, ‘ich bin die Tochter eines mächtigen Königs, aber ich bin in die Gewalt einer Hexe gerathen, und bin auf den Glasberg gebannt. Jeden Tag muß ich mich mit meinen zwei Schwestern im See baden, aber ohne mein Hemdchen kann ich nicht wieder fort fliegen. Meine Schwestern haben sich fort gemacht, ich aber habe zurück bleiben müssen. Jch bitte dich gib mir mein Hemdchen wieder.’ ‘Sei ruhig, armes Kind,’ sprach der Trommler, ‘ich will dirs gerne zurückgeben.’ Er holte es aus seiner Tasche, und reichte es ihr in der Dunkelheit hin. Sie erfaßte es hastig, und wollte damit fort. ‘Weile einen Augenblick,’ sagte er ‘vielleicht kann ich dir helfen.’ ‘Helfen...\n"
     ]
    }
   ],
   "source": [
    "# FAISS-based QA\n",
    "faiss_retriever = vectordb.as_retriever(search_kwargs={\"k\": 20})\n",
    "result = faiss_retriever.invoke(\"Wer ist der Wächter Willem?\")\n",
    "print(\"\\n\\n\".join([f\"Document {i}:\\n{doc.page_content}...\" for i, doc in enumerate(result)]))"
   ]
  },
  {
   "cell_type": "code",
   "execution_count": 19,
   "id": "55de5b83",
   "metadata": {},
   "outputs": [],
   "source": [
    "from langchain_core.documents import Document\n",
    "from langgraph.graph import START, StateGraph\n",
    "from typing_extensions import List, TypedDict\n",
    "\n",
    "\n",
    "# Define state for application\n",
    "class State(TypedDict):\n",
    "    question: str\n",
    "    context: List[Document]\n",
    "    answer: str\n",
    "\n",
    "\n",
    "# Define application steps\n",
    "def retrieve(state: State):\n",
    "    retrieved_docs = faiss_retriever.invoke(state[\"question\"])\n",
    "    return {\"context\": retrieved_docs}\n",
    "\n",
    "\n",
    "def generate(state: State):\n",
    "    docs_content = \"\\n\\n\".join(doc.page_content for doc in state[\"context\"])\n",
    "    messages = prompt.invoke({\"question\": state[\"question\"], \"context\": docs_content})\n",
    "    response = llm.invoke(messages)\n",
    "    return {\"answer\": response.content}\n",
    "\n",
    "\n",
    "# Compile application and test\n",
    "graph_builder = StateGraph(State).add_sequence([retrieve, generate])\n",
    "graph_builder.add_edge(START, \"retrieve\")\n",
    "graph = graph_builder.compile()"
   ]
  },
  {
   "cell_type": "code",
   "execution_count": 20,
   "id": "e37825f9",
   "metadata": {},
   "outputs": [
    {
     "data": {
      "image/png": "[encoded data removed]",
      "text/plain": [
       "<IPython.core.display.Image object>"
      ]
     },
     "metadata": {},
     "output_type": "display_data"
    }
   ],
   "source": [
    "from IPython.display import Image, display\n",
    "\n",
    "display(Image(graph.get_graph().draw_mermaid_png()))"
   ]
  },
  {
   "cell_type": "code",
   "execution_count": 21,
   "id": "c495b7bf",
   "metadata": {},
   "outputs": [
    {
     "name": "stdout",
     "output_type": "stream",
     "text": [
      "Sources: ['../data/kafka_prozess_1925.txt', '../data/kafka_prozess_1925.txt', '../data/kafka_prozess_1925.txt', '../data/kafka_prozess_1925.txt', '../data/kafka_prozess_1925.txt', '../data/kafka_prozess_1925.txt', '../data/kafka_prozess_1925.txt', '../data/grimm_maerchen02_1857.txt', '../data/kafka_prozess_1925.txt', '../data/goethe_faust02_1832.txt', '../data/grimm_maerchen02_1857.txt', '../data/grimm_maerchen01_1857.txt', '../data/grimm_maerchen02_1857.txt', '../data/grimm_maerchen01_1857.txt', '../data/grimm_maerchen02_1857.txt', '../data/kafka_prozess_1925.txt', '../data/kafka_prozess_1925.txt', '../data/kafka_prozess_1925.txt', '../data/kafka_prozess_1925.txt', '../data/grimm_maerchen02_1857.txt']\n",
      "\n",
      "\n",
      "Answer: Der Wächter Willem ist ein Charakter in den bereitgestellten Artikeln. Er ist ein Wächter, der zusammen mit seinem Kollegen Franz für die Bewachung von K. verantwortlich ist. Willem wird als ein selbstbewusster und autoritärer Charakter dargestellt, der K. über sein Recht und seine Pflichten aufklärt. Er ist auch derjenige, der K. über die Gründe seiner Verhaftung und die Prozeduren, die ihn erwarten, informiert. Im Laufe der Handlung wird Willem zusammen mit Franz von einem Prügler bestraft, weil K. sich über ihr Verhalten beschwert hat. Willem versucht, K. zu erklären, dass sie nur ihre Pflicht tun, und dass sie nicht für ihre Handlungen verantwortlich sind, sondern nur Befehle befolgen. Er erscheint auch in anderen Situationen, in denen er mit K. interagiert und versucht, ihn zu überzeugen oder zu beruhigen.\n"
     ]
    }
   ],
   "source": [
    "result = graph.invoke({\"question\": \"Wer ist der Wächter Willem?\"})\n",
    "\n",
    "sources = [doc.metadata[\"source\"] for doc in result[\"context\"]]\n",
    "print(f\"Sources: {sources}\\n\\n\")\n",
    "print(f'Answer: {result[\"answer\"]}')"
   ]
  },
  {
   "cell_type": "markdown",
   "id": "5a9e57d3",
   "metadata": {},
   "source": [
    "## 7. RAG with Source Citation"
   ]
  },
  {
   "cell_type": "code",
   "execution_count": 22,
   "id": "9f3c4bf7",
   "metadata": {},
   "outputs": [],
   "source": [
    "class CitedAnswer(BaseModel):\n",
    "    \"\"\"Answer the user question based only on the given sources, and cite the sources used.\"\"\"\n",
    "\n",
    "    answer: str = Field(\n",
    "        ...,\n",
    "        description=\"The answer to the user question, which is based only on the given sources.\",\n",
    "    )\n",
    "    citations: List[int] = Field(\n",
    "        ...,\n",
    "        description=\"The integer IDs of the SPECIFIC sources which justify the answer.\",\n",
    "    )\n",
    "\n",
    "cited_answer_parser = PydanticOutputParser(pydantic_object=CitedAnswer)"
   ]
  },
  {
   "cell_type": "code",
   "execution_count": 30,
   "id": "64b9a3a9",
   "metadata": {},
   "outputs": [],
   "source": [
    "system_prompt = (\n",
    "    \"Du bist ein hilfreicher KI-Assistent. Du bekommst eine Nutzerfrage \"\n",
    "    \"und einige Artikel-Ausschnitte. Beantworte die Nutzerfrage, \"\n",
    "    \"sofern die Artikel eine Antwort enthalten. Falls keine der Artikel die Frage beantworten, \"\n",
    "    \"sage einfach, dass du es nicht weißt.\"\n",
    "    \"\\n\\nHier sind die Artikel: \"\n",
    "    \"{context}\"\n",
    "    \"\\n\\nDu MUSST die Antwort immer im folgenden Format geben:\"\n",
    "    \"\\n\\n{format}\"\n",
    ")\n",
    "prompt = ChatPromptTemplate.from_messages(\n",
    "    [\n",
    "        (\"system\", system_prompt),\n",
    "        (\"human\", \"{question}\"),\n",
    "    ]\n",
    ").partial(format=cited_answer_parser.get_format_instructions())"
   ]
  },
  {
   "cell_type": "code",
   "execution_count": 31,
   "id": "82c79657",
   "metadata": {},
   "outputs": [],
   "source": [
    "def format_docs_with_id(docs: List[Document]) -> str:\n",
    "    formatted = [\n",
    "        f\"Source ID: {i}\\nSource: {doc.metadata['source']}\\nArticle Snippet: {doc.page_content}\"\n",
    "        for i, doc in enumerate(docs)\n",
    "    ]\n",
    "    return \"\\n\\n\" + \"\\n\\n\".join(formatted)"
   ]
  },
  {
   "cell_type": "code",
   "execution_count": 32,
   "id": "167f1874",
   "metadata": {},
   "outputs": [],
   "source": [
    "class State(TypedDict):\n",
    "    question: str\n",
    "    context: List[Document]\n",
    "    answer: CitedAnswer\n",
    "\n",
    "\n",
    "def generate(state: State):\n",
    "    formatted_docs = format_docs_with_id(state[\"context\"])\n",
    "    messages = prompt.invoke({\"question\": state[\"question\"], \"context\": formatted_docs})\n",
    "    response = llm.invoke(messages)\n",
    "    parsed_response = cited_answer_parser.parse(response.content)\n",
    "    return {\"answer\": parsed_response}\n",
    "\n",
    "\n",
    "graph_builder = StateGraph(State).add_sequence([retrieve, generate])\n",
    "graph_builder.add_edge(START, \"retrieve\")\n",
    "graph = graph_builder.compile()"
   ]
  },
  {
   "cell_type": "code",
   "execution_count": 39,
   "id": "f794a601",
   "metadata": {},
   "outputs": [
    {
     "name": "stdout",
     "output_type": "stream",
     "text": [
      "Answer: answer='30 Jahre' citations=[4]\n",
      "\n",
      "\n"
     ]
    }
   ],
   "source": [
    "result = graph.invoke({\"question\": \"Wie alt ist Josef?\"})\n",
    "print(f'Answer: {result[\"answer\"]}\\n\\n')"
   ]
  },
  {
   "cell_type": "code",
   "execution_count": 40,
   "id": "4e5761a1",
   "metadata": {},
   "outputs": [
    {
     "name": "stdout",
     "output_type": "stream",
     "text": [
      "[4] [18/0020] „Josef K.?“ fragte der Aufseher, vielleicht nur um K.s zerstreute Blicke auf sich zu lenken. K. nickte. „Sie sind durch die Vorgänge des heutigen Morgens wohl sehr überrascht,“ fragte der Aufseher und verschob dabei mit beiden Händen die paar Gegenstände, die auf dem Nachttischchen lagen, die Kerze mit Zündhölzchen, ein Buch und ein Nadelkissen, als seien es Gegenstände, die er zur Verhandlung benötige. „Gewiß,“ sagte K. und das Wohlgefühl, endlich einem vernünftigen Menschen gegenüberzustehen und über seine Angelegenheit mit ihm sprechen zu können, ergriff ihn, „gewiß, ich bin überrascht, aber ich bin keineswegs sehr überrascht.“ „Nicht sehr überrascht?“ fragte der Aufseher und stellte nun die Kerze in die Mitte des Tischchens, während er die andern Sachen um sie gruppierte. „Sie mißverstehen mich vielleicht,“ beeilte sich K. zu bemerken. „Ich meine“ – Hier unterbrach sich K. und sah sich nach einem Sessel um. „Ich kann mich doch setzen?“ fragte er. „Es ist nicht üblich,“ antwortete der Aufseher. „Ich meine,“ sagte nun K. ohne weitere Pause, „ich bin allerdings sehr überrascht, aber man ist, wenn man 30 Jahre auf der Welt ist und sich allein hat durchschlagen\n"
     ]
    }
   ],
   "source": [
    "print(\"\\n\\n\".join(f\"[{i}] {c.page_content}\" for i,c in enumerate(result['context']) if i in result[\"answer\"].citations))"
   ]
  },
  {
   "cell_type": "markdown",
   "id": "274c689d",
   "metadata": {},
   "source": [
    "## 8. RAG with Source Citation and Snippet Extraction"
   ]
  },
  {
   "cell_type": "code",
   "execution_count": 66,
   "id": "eb8f4422",
   "metadata": {},
   "outputs": [],
   "source": [
    "class Citation(BaseModel):\n",
    "    source_id: int = Field(\n",
    "        ...,\n",
    "        description=\"The integer ID of a SPECIFIC source which justifies the answer.\",\n",
    "    )\n",
    "    quote: str = Field(\n",
    "        ...,\n",
    "        description=\"The VERBATIM quote from the specified source that justifies the answer.\",\n",
    "    )\n",
    "\n",
    "\n",
    "class QuotedAnswer(BaseModel):\n",
    "    \"\"\"Answer the user question based only on the given sources, and cite the sources used.\"\"\"\n",
    "\n",
    "    answer: str = Field(\n",
    "        ...,\n",
    "        description=\"The answer to the user question, which is based only on the given sources.\",\n",
    "    )\n",
    "    citations: List[Citation] = Field(\n",
    "        ..., description=\"Citations from the given sources that justify the answer.\"\n",
    "    )\n",
    "\n",
    "quoted_answer_parser = PydanticOutputParser(pydantic_object=QuotedAnswer)"
   ]
  },
  {
   "cell_type": "code",
   "execution_count": 67,
   "id": "64903747",
   "metadata": {},
   "outputs": [],
   "source": [
    "prompt = ChatPromptTemplate.from_messages(\n",
    "    [\n",
    "        (\"system\", system_prompt),\n",
    "        (\"human\", \"{question}\"),\n",
    "    ]\n",
    ").partial(format=quoted_answer_parser.get_format_instructions())"
   ]
  },
  {
   "cell_type": "code",
   "execution_count": 68,
   "id": "bb445e79",
   "metadata": {},
   "outputs": [],
   "source": [
    "class State(TypedDict):\n",
    "    question: str\n",
    "    context: List[Document]\n",
    "    answer: QuotedAnswer\n",
    "\n",
    "\n",
    "def generate(state: State):\n",
    "    formatted_docs = format_docs_with_id(state[\"context\"])\n",
    "    messages = prompt.invoke({\"question\": state[\"question\"], \"context\": formatted_docs})\n",
    "    response = llm.invoke(messages)\n",
    "    parsed_response = quoted_answer_parser.parse(response.content)\n",
    "    return {\"answer\": parsed_response}\n",
    "\n",
    "\n",
    "graph_builder = StateGraph(State).add_sequence([retrieve, generate])\n",
    "graph_builder.add_edge(START, \"retrieve\")\n",
    "graph = graph_builder.compile()"
   ]
  },
  {
   "cell_type": "code",
   "execution_count": 69,
   "id": "b66509e6",
   "metadata": {},
   "outputs": [
    {
     "name": "stdout",
     "output_type": "stream",
     "text": [
      "Answer: answer='Der Wächter Willem ist ein Charakter in den Artikeln und wird als ein Wächter beschrieben, der zusammen mit einem anderen Wächter namens Franz, den Protagonisten K. bewacht und ihn in verschiedenen Situationen begleitet.' citations=[Citation(source_id=0, quote='Willem in einem Winkel kauerte und heimlich zusah, ohne eine Kopfwendung zu wagen.'), Citation(source_id=1, quote='Franz,\" wandte sich Willem zum andern W\"chter, \"sagte ich dir nicht, da\\\\u009D der Herr unsere Bestrafung nicht verlangt hat.'), Citation(source_id=2, quote='Bis er es w\\\\u00fcnscht; nicht fr\\\\u00fcher,\" sagte der W\\\\u00e4chter, der Willem genannt worden war.')]\n",
      "\n",
      "\n"
     ]
    }
   ],
   "source": [
    "result = graph.invoke({\"question\": \"Wer ist der Wächter Willem?\"})\n",
    "print(f'Answer: {result[\"answer\"]}\\n\\n')"
   ]
  },
  {
   "cell_type": "markdown",
   "id": "4b8c90f3",
   "metadata": {},
   "source": [
    "## 9. Query Rewriting / Augmentation"
   ]
  },
  {
   "cell_type": "code",
   "execution_count": null,
   "id": "b07bd6db",
   "metadata": {},
   "outputs": [
    {
     "name": "stdout",
     "output_type": "stream",
     "text": [
      "LangChain is an open-source framework that allows developers to build applications on top of large language models (LLMs) like LLaMA, PaLM, or other models from various providers. It provides a set of tools and APIs to interact with these models, making it easier to integrate them into various applications, such as chatbots, virtual assistants, or content generation platforms.\n",
      "\n",
      "Here's an overview of how LangChain functions:\n",
      "\n",
      "**Key Components:**\n",
      "\n",
      "1. **LLM Providers**: LangChain supports various LLM providers, including LLaMA, PaLM, and others. These providers offer access to pre-trained language models that can be used for tasks like text generation, sentiment analysis, or question answering.\n",
      "2. **LangChain Client**: The LangChain client is a Python library that allows developers to interact with the LLM providers. It provides a simple API to send requests to the models, receive responses, and manage the interactions.\n",
      "3. **Application**: The application is the custom code written by developers to utilize the LangChain client and LLM providers. This is where the actual logic of the application resides, such as processing user input, generating responses, or performing specific tasks.\n",
      "\n",
      "**How it Works:**\n",
      "\n",
      "1. **Initialization**: The developer initializes the LangChain client with the desired LLM provider and model.\n",
      "2. **Request**: The application sends a request to the LangChain client, which then forwards it to the LLM provider.\n",
      "3. **Model Interaction**: The LLM provider processes the request using the selected model and returns a response to the LangChain client.\n",
      "4. **Response**: The LangChain client receives the response from the LLM provider and passes it back to the application.\n",
      "5. **Processing**: The application processes the response, which may involve additional logic, such as post-processing, filtering, or combining with other data.\n",
      "6. **Output**: The application generates output based on the processed response, which can be text, images, or other formats.\n",
      "\n",
      "**Benefits:**\n",
      "\n",
      "1. **Simplified Integration**: LangChain provides a unified API for interacting with various LLM providers, making it easier to switch between models or providers.\n",
      "2. **Flexibility**: Developers can use LangChain to build custom applications that leverage the strengths of different LLMs.\n",
      "3. **Modular Architecture**: The framework allows for a modular architecture, making it easier to maintain and update individual components without affecting the entire system.\n",
      "\n",
      "Overall, LangChain enables developers to build innovative applications that harness the power of large language models, while providing a flexible and scalable framework for integration and customization.\n"
     ]
    }
   ],
   "source": [
    "# A) LLM-based rewriting\n",
    "rewrite_template = PromptTemplate(\n",
    "    template=\"Rewrite this query to improve document retrieval: {query}\\n\\nDO NOT include any other information.\",\n",
    ")\n",
    "rewrite_chain = rewrite_template | llm | StrOutputParser() | llm | StrOutputParser()\n",
    "print(rewrite_chain.invoke({\"query\": \"How does LangChain work?\"}))\n"
   ]
  }
 ],
 "metadata": {
  "kernelspec": {
   "display_name": "rag-workshop",
   "language": "python",
   "name": "python3"
  },
  "language_info": {
   "codemirror_mode": {
    "name": "ipython",
    "version": 3
   },
   "file_extension": ".py",
   "mimetype": "text/x-python",
   "name": "python",
   "nbconvert_exporter": "python",
   "pygments_lexer": "ipython3",
   "version": "3.10.0"
  }
 },
 "nbformat": 4,
 "nbformat_minor": 5
}
